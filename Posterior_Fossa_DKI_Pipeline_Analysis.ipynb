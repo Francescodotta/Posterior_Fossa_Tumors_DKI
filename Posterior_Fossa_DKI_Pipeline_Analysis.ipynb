{
 "cells": [
  {
   "cell_type": "code",
   "execution_count": 1,
   "id": "9e7fe3bb-7c6f-4062-87fd-c9cdceeb04b6",
   "metadata": {},
   "outputs": [],
   "source": [
    "import pandas as pd\n",
    "import numpy as np\n",
    "from sklearn.ensemble import RandomForestClassifier\n",
    "from sklearn.model_selection import train_test_split\n",
    "import matplotlib.pyplot as plt\n",
    "import seaborn as sns\n",
    "from sklearn import metrics\n",
    "from sklearn import svm\n",
    "from sklearn.svm import SVC\n",
    "from sklearn.metrics import roc_curve, auc\n",
    "from sklearn.metrics import classification_report\n",
    "from sklearn.metrics import confusion_matrix\n",
    "from sklearn import metrics\n",
    "from sklearn.metrics import ConfusionMatrixDisplay"
   ]
  },
  {
   "cell_type": "code",
   "execution_count": 2,
   "id": "7bae5579-3cdf-4c9c-972f-818b57a67347",
   "metadata": {},
   "outputs": [],
   "source": [
    "def COV_calc(Ds_column, Mn_column, df_lroi):\n",
    "    Ds = []\n",
    "    Mean = []\n",
    "    COV = []\n",
    "    for i in range(len(df_lroi[f\"{Ds_column}\"])):\n",
    "        Ds.append(df_lroi[f\"{Ds_column}\"][i])\n",
    "        Mean.append(df_lroi[f\"{Mn_column}\"][i])\n",
    "    for i in range(len(Mean)):\n",
    "        COV.append(Ds[i]/Mean[i]*100)\n",
    "        \n",
    "    return COV"
   ]
  },
  {
   "cell_type": "markdown",
   "id": "b387ae27-f385-4907-9a1b-7fffdddc1929",
   "metadata": {},
   "source": [
    "### Importing data"
   ]
  },
  {
   "cell_type": "code",
   "execution_count": 3,
   "id": "05ebd14e-ae90-4adf-bf40-235f8abf6458",
   "metadata": {},
   "outputs": [],
   "source": [
    "df = pd.read_excel(\"VOI.xlsx\")\n",
    "df=df.drop([34,35,36,37,38,39])\n",
    "# delete parts of the excel tables that are not needed for the analyses"
   ]
  },
  {
   "cell_type": "markdown",
   "id": "c47b8eff-f3eb-42bb-bc56-ac9f4e1706d3",
   "metadata": {},
   "source": [
    "### Select the right data for the analysis"
   ]
  },
  {
   "cell_type": "code",
   "execution_count": 4,
   "id": "b861221a-38cb-4188-ae8b-0727ddfb9c4e",
   "metadata": {},
   "outputs": [],
   "source": [
    "df1 = df[[\"RK_1st_reader_vol\",\"MK_1st_read_vol\",\"AK_1stl_read_vol\",\"FA_1st_read_vol\",\"ADC_1st_read_vol\"]]\n",
    "Fact=df[\"Histology_1_2_3\"]\n",
    "X=df1.values\n",
    "Y=Fact.values.ravel()"
   ]
  },
  {
   "cell_type": "markdown",
   "id": "93932c2a-4b69-4fe6-aa4b-d06d7c87c2fc",
   "metadata": {},
   "source": [
    "### COV ANALYSIS"
   ]
  },
  {
   "cell_type": "code",
   "execution_count": 5,
   "id": "df16cb6a-ca9a-4d90-9213-766339eb98a4",
   "metadata": {},
   "outputs": [],
   "source": [
    "df_lroi = pd.read_excel(\"spreadsheet_supplementary_large_ROIs.xls\")\n",
    "df_sroi = pd.read_excel(\"spreadsheet_supplementary_small_ROIs.xls\").drop([34,35])\n",
    "df_voi = pd.read_excel(\"VOI_spreadsheet.xlsx\")"
   ]
  },
  {
   "cell_type": "markdown",
   "id": "1ccb6f7f-2258-4de8-8de0-411f0e6bd817",
   "metadata": {},
   "source": [
    "## LARGE ROI ANALYSIS\n"
   ]
  },
  {
   "cell_type": "code",
   "execution_count": 6,
   "id": "c6f5d699-6034-4065-b4db-e7d637c1ef0b",
   "metadata": {},
   "outputs": [
    {
     "data": {
      "text/plain": [
       "[4.864068289803557,\n",
       " 4.087430817227428,\n",
       " 10.19441709761301,\n",
       " 6.272206328475234,\n",
       " 12.962447374989257]"
      ]
     },
     "execution_count": 6,
     "metadata": {},
     "output_type": "execute_result"
    }
   ],
   "source": [
    "df_trial = pd.DataFrame()\n",
    "\n",
    "df_trial[\"COV_MK\"] = COV_calc('DS_MK', 'MEAN_MK', df_lroi)\n",
    "df_trial[\"COV_AK\"] = COV_calc('DS_AK', 'MEAN_AK', df_lroi)\n",
    "df_trial[\"COV_FA\"] = COV_calc('DS_FA', 'MEAN_FA', df_lroi)\n",
    "df_trial[\"COV_ADC\"] = COV_calc('DS_ADC', 'MEAN_ADC', df_lroi)\n",
    "df_trial[\"COV_RK\"] = COV_calc('DS_RK', 'MEAN_RK', df_lroi)\n",
    "\n",
    "ls_mean_cov_LROI = []\n",
    "\n",
    "ls_mean_cov_LROI.append(df_trial[\"COV_MK\"].mean())\n",
    "ls_mean_cov_LROI.append(df_trial[\"COV_AK\"].mean())\n",
    "ls_mean_cov_LROI.append(df_trial[\"COV_FA\"].mean())\n",
    "ls_mean_cov_LROI.append(df_trial[\"COV_ADC\"].mean())\n",
    "ls_mean_cov_LROI.append(df_trial[\"COV_RK\"].mean())\n",
    "\n",
    "ls_mean_cov_LROI \n"
   ]
  },
  {
   "cell_type": "markdown",
   "id": "b3c5949e-fb7e-462c-b63c-53e6cbd58adc",
   "metadata": {},
   "source": [
    "## SMALL ROI ANALYSIS"
   ]
  },
  {
   "cell_type": "code",
   "execution_count": 7,
   "id": "8e33426d-7ae4-4ca8-8b43-b16caee2664b",
   "metadata": {},
   "outputs": [
    {
     "data": {
      "text/plain": [
       "[9.364614486088172,\n",
       " 10.2366715324751,\n",
       " 19.300997440521584,\n",
       " 9.802322943702595,\n",
       " 13.840725600768732]"
      ]
     },
     "execution_count": 7,
     "metadata": {},
     "output_type": "execute_result"
    }
   ],
   "source": [
    "df_trial = pd.DataFrame()\n",
    "df_trial[\"COV_MK\"] = COV_calc('DS_MK', 'MEAN_MK', df_sroi)\n",
    "df_trial[\"COV_AK\"] = COV_calc('DS_AK', 'MEAN_AK', df_sroi)\n",
    "df_trial[\"COV_FA\"] = COV_calc('DS_FA', 'MEAN_FA', df_sroi)\n",
    "df_trial[\"COV_ADC\"] = COV_calc('DS_ADC', 'MEAN_ADC', df_sroi)\n",
    "df_trial[\"COV_RK\"] = COV_calc('DS_RK', 'MEAN_RK', df_sroi)\n",
    "\n",
    "ls_mean_cov_SROI = []\n",
    "\n",
    "ls_mean_cov_SROI.append(df_trial[\"COV_MK\"].mean())\n",
    "ls_mean_cov_SROI.append(df_trial[\"COV_AK\"].mean())\n",
    "ls_mean_cov_SROI.append(df_trial[\"COV_FA\"].mean())\n",
    "ls_mean_cov_SROI.append(df_trial[\"COV_ADC\"].mean())\n",
    "ls_mean_cov_SROI.append(df_trial[\"COV_RK\"].mean())\n",
    "\n",
    "ls_mean_cov_SROI"
   ]
  },
  {
   "cell_type": "markdown",
   "id": "5a7b630a-6d19-4a6e-a966-72ea2f13328d",
   "metadata": {},
   "source": [
    "## VOI ANALYSIS"
   ]
  },
  {
   "cell_type": "code",
   "execution_count": 8,
   "id": "ab8c4c30-171d-4a68-baa3-e14caf026205",
   "metadata": {},
   "outputs": [
    {
     "data": {
      "text/plain": [
       "[3.5297651869744877,\n",
       " 3.0232993046097025,\n",
       " 6.740674341279181,\n",
       " 3.9168948614016443,\n",
       " 9.704760030356391]"
      ]
     },
     "execution_count": 8,
     "metadata": {},
     "output_type": "execute_result"
    }
   ],
   "source": [
    "df_trial = pd.DataFrame()\n",
    "df_trial[\"COV_MK\"] = COV_calc('DS_MK', 'MEAN_MK', df_voi)\n",
    "df_trial[\"COV_AK\"] = COV_calc('DS_AK', 'MEAN_AK', df_voi)\n",
    "df_trial[\"COV_FA\"] = COV_calc('DS_FA', 'MEAN_FA', df_voi)\n",
    "df_trial[\"COV_ADC\"] = COV_calc('DS_ADC', 'MEAN_ADC', df_voi)\n",
    "df_trial[\"COV_RK\"] = COV_calc('DS_RK', 'MEAN_RK', df_voi)\n",
    "\n",
    "ls_mean_cov_VOI = []\n",
    "\n",
    "ls_mean_cov_VOI.append(df_trial[\"COV_MK\"].mean())\n",
    "ls_mean_cov_VOI.append(df_trial[\"COV_AK\"].mean())\n",
    "ls_mean_cov_VOI.append(df_trial[\"COV_FA\"].mean())\n",
    "ls_mean_cov_VOI.append(df_trial[\"COV_ADC\"].mean())\n",
    "ls_mean_cov_VOI.append(df_trial[\"COV_RK\"].mean())\n",
    "\n",
    "ls_mean_cov_VOI"
   ]
  },
  {
   "cell_type": "markdown",
   "id": "cb9b62e6-3f7b-44b6-a8d5-27e6e08f265f",
   "metadata": {},
   "source": [
    "## Graphical Analysis BoxPlot"
   ]
  },
  {
   "cell_type": "code",
   "execution_count": 9,
   "id": "ef2531f3-be26-4e56-82a1-1b3e35be659b",
   "metadata": {},
   "outputs": [
    {
     "data": {
      "image/png": "[encoded data removed]",
      "text/plain": [
       "<Figure size 432x288 with 1 Axes>"
      ]
     },
     "metadata": {
      "needs_background": "light"
     },
     "output_type": "display_data"
    }
   ],
   "source": [
    "labels = [\"MB\", \"PA\",\"EP\"]\n",
    "\n",
    "ax = sns.boxplot(x='Histology_1_2_3', y='MEAN_MK', data=df,saturation=1)\n",
    "ax.set_xticklabels(labels)\n",
    "\n",
    "plt.savefig(\"MK_Boxplot.jpeg\", dpi=300)\n",
    "\n",
    "# Show the plot\n",
    "plt.show()"
   ]
  },
  {
   "cell_type": "code",
   "execution_count": 10,
   "id": "c287592d-15a0-4bf3-ba24-0425a97e2019",
   "metadata": {},
   "outputs": [
    {
     "data": {
      "image/png": "[encoded data removed]",
      "text/plain": [
       "<Figure size 432x288 with 1 Axes>"
      ]
     },
     "metadata": {
      "needs_background": "light"
     },
     "output_type": "display_data"
    }
   ],
   "source": [
    "ax = sns.boxplot(x='Histology_1_2_3', y='MEAN_ADC', data=df,saturation=1)\n",
    "ax.set_xticklabels(labels)\n",
    "\n",
    "plt.savefig(\"ADC_Boxplot.jpeg\", dpi=300)\n",
    "\n",
    "# Show the plot\n",
    "plt.show()"
   ]
  },
  {
   "cell_type": "code",
   "execution_count": 11,
   "id": "5bf10274-fd47-40d6-973e-e4b805858fff",
   "metadata": {},
   "outputs": [
    {
     "data": {
      "image/png": "[encoded data removed]",
      "text/plain": [
       "<Figure size 432x288 with 1 Axes>"
      ]
     },
     "metadata": {
      "needs_background": "light"
     },
     "output_type": "display_data"
    }
   ],
   "source": [
    "ax = sns.boxplot(x='Histology_1_2_3', y='MEAN_RK', data=df,saturation=1)\n",
    "ax.set_xticklabels(labels)\n",
    "\n",
    "plt.savefig(\"RK_Boxplot.jpeg\", dpi=300)\n",
    "\n",
    "# Show the plot\n",
    "plt.show()"
   ]
  },
  {
   "cell_type": "code",
   "execution_count": 12,
   "id": "9a91b998-4a80-4bc1-b4f4-fe64b7d641ed",
   "metadata": {},
   "outputs": [
    {
     "data": {
      "image/png": "[encoded data removed]",
      "text/plain": [
       "<Figure size 432x288 with 1 Axes>"
      ]
     },
     "metadata": {
      "needs_background": "light"
     },
     "output_type": "display_data"
    }
   ],
   "source": [
    "ax = sns.boxplot(x='Histology_1_2_3', y='MEAN_AK', data=df,saturation=1)\n",
    "ax.set_xticklabels(labels)\n",
    "\n",
    "plt.savefig(\"AK_Boxplot.jpeg\", dpi=300)\n",
    "\n",
    "# Show the plot\n",
    "plt.show()"
   ]
  },
  {
   "cell_type": "code",
   "execution_count": 13,
   "id": "edf8501a-0a28-474b-a9bd-8e514aa28b10",
   "metadata": {},
   "outputs": [
    {
     "data": {
      "image/png": "[encoded data removed]",
      "text/plain": [
       "<Figure size 432x288 with 1 Axes>"
      ]
     },
     "metadata": {
      "needs_background": "light"
     },
     "output_type": "display_data"
    }
   ],
   "source": [
    "ax = sns.boxplot(x='Histology_1_2_3', y='MEAN_FA', data=df,saturation=1)\n",
    "ax.set_xticklabels(labels)\n",
    "\n",
    "plt.savefig(\"FA_Boxplot.jpeg\", dpi=300)\n",
    "\n",
    "# Show the plot\n",
    "plt.show()"
   ]
  },
  {
   "cell_type": "markdown",
   "id": "2e2b2500-f641-467a-8245-9a6a9eb418a0",
   "metadata": {},
   "source": [
    "## COV Measurments"
   ]
  },
  {
   "cell_type": "code",
   "execution_count": 14,
   "id": "45c9aea4-8d97-4c2e-afa2-5f4eb98cd107",
   "metadata": {},
   "outputs": [
    {
     "data": {
      "image/png": "[encoded data removed]",
      "text/plain": [
       "<Figure size 432x288 with 1 Axes>"
      ]
     },
     "metadata": {
      "needs_background": "light"
     },
     "output_type": "display_data"
    }
   ],
   "source": [
    "df_1 = pd.read_excel(\"COV_Measurements.xlsx\")\n",
    "df_1.plot(x=\"DKI metric\", y=[\"COV VOI\", \"COV L_ROI\", \"COV S_ROI\"], kind=\"bar\")\n",
    "plt.savefig(\"cov.tiff\", dpi=300)"
   ]
  },
  {
   "cell_type": "markdown",
   "id": "4c1ccece-100b-4ab8-aab8-b0c0671f583a",
   "metadata": {},
   "source": [
    "## MANOVA ANALYSIS"
   ]
  },
  {
   "cell_type": "code",
   "execution_count": 15,
   "id": "8b3e1791-1e60-48eb-b1b9-d4ec635f6f74",
   "metadata": {},
   "outputs": [
    {
     "data": {
      "text/html": [
       "<table class=\"simpletable\">\n",
       "<tr>\n",
       "  <td></td> <td></td> <td></td> <td></td>\n",
       "</tr>\n",
       "</table>\n",
       "<table class=\"simpletable\">\n",
       "<tr>\n",
       "  <td></td>        <th>Intercept</th>        <th>Value</th>  <th>Num DF</th> <th>Den DF</th>   <th>F Value</th> <th>Pr > F</th>\n",
       "</tr>\n",
       "<tr>\n",
       "  <th></th>      <td>Wilks' lambda</td>     <td>0.0259</td>  <td>5.0000</td> <td>28.0000</td> <td>210.2604</td> <td>0.0000</td>\n",
       "</tr>\n",
       "<tr>\n",
       "  <th></th>     <td>Pillai's trace</td>     <td>0.9741</td>  <td>5.0000</td> <td>28.0000</td> <td>210.2604</td> <td>0.0000</td>\n",
       "</tr>\n",
       "<tr>\n",
       "  <th></th> <td>Hotelling-Lawley trace</td> <td>37.5465</td> <td>5.0000</td> <td>28.0000</td> <td>210.2604</td> <td>0.0000</td>\n",
       "</tr>\n",
       "<tr>\n",
       "  <th></th>   <td>Roy's greatest root</td>  <td>37.5465</td> <td>5.0000</td> <td>28.0000</td> <td>210.2604</td> <td>0.0000</td>\n",
       "</tr>\n",
       "</table>\n",
       "<table class=\"simpletable\">\n",
       "<tr>\n",
       "  <td></td> <td></td> <td></td> <td></td>\n",
       "</tr>\n",
       "</table>\n",
       "<table class=\"simpletable\">\n",
       "<tr>\n",
       "  <td></td>     <th>Histology_1_2_3</th>     <th>Value</th> <th>Num DF</th> <th>Den DF</th>  <th>F Value</th> <th>Pr > F</th>\n",
       "</tr>\n",
       "<tr>\n",
       "  <th></th>      <td>Wilks' lambda</td>     <td>0.3548</td> <td>5.0000</td> <td>28.0000</td> <td>10.1853</td> <td>0.0000</td>\n",
       "</tr>\n",
       "<tr>\n",
       "  <th></th>     <td>Pillai's trace</td>     <td>0.6452</td> <td>5.0000</td> <td>28.0000</td> <td>10.1853</td> <td>0.0000</td>\n",
       "</tr>\n",
       "<tr>\n",
       "  <th></th> <td>Hotelling-Lawley trace</td> <td>1.8188</td> <td>5.0000</td> <td>28.0000</td> <td>10.1853</td> <td>0.0000</td>\n",
       "</tr>\n",
       "<tr>\n",
       "  <th></th>   <td>Roy's greatest root</td>  <td>1.8188</td> <td>5.0000</td> <td>28.0000</td> <td>10.1853</td> <td>0.0000</td>\n",
       "</tr>\n",
       "</table>"
      ],
      "text/plain": [
       "<class 'statsmodels.iolib.summary2.Summary'>\n",
       "\"\"\"\n",
       "                  Multivariate linear model\n",
       "==============================================================\n",
       "                                                              \n",
       "--------------------------------------------------------------\n",
       "       Intercept         Value  Num DF  Den DF F Value  Pr > F\n",
       "--------------------------------------------------------------\n",
       "          Wilks' lambda  0.0259 5.0000 28.0000 210.2604 0.0000\n",
       "         Pillai's trace  0.9741 5.0000 28.0000 210.2604 0.0000\n",
       " Hotelling-Lawley trace 37.5465 5.0000 28.0000 210.2604 0.0000\n",
       "    Roy's greatest root 37.5465 5.0000 28.0000 210.2604 0.0000\n",
       "--------------------------------------------------------------\n",
       "                                                              \n",
       "--------------------------------------------------------------\n",
       "      Histology_1_2_3     Value  Num DF  Den DF F Value Pr > F\n",
       "--------------------------------------------------------------\n",
       "            Wilks' lambda 0.3548 5.0000 28.0000 10.1853 0.0000\n",
       "           Pillai's trace 0.6452 5.0000 28.0000 10.1853 0.0000\n",
       "   Hotelling-Lawley trace 1.8188 5.0000 28.0000 10.1853 0.0000\n",
       "      Roy's greatest root 1.8188 5.0000 28.0000 10.1853 0.0000\n",
       "==============================================================\n",
       "\n",
       "\"\"\""
      ]
     },
     "execution_count": 15,
     "metadata": {},
     "output_type": "execute_result"
    }
   ],
   "source": [
    "from statsmodels.multivariate.manova import MANOVA\n",
    "\n",
    "model = MANOVA.from_formula('MEAN_MK + MEAN_AK + MEAN_FA + MEAN_ADC + MEAN_RK ~ Histology_1_2_3', data=df)\n",
    "result = model.mv_test()\n",
    "\n",
    "result.summary()"
   ]
  },
  {
   "cell_type": "markdown",
   "id": "6657d2cb-a3c5-4b28-923e-872857b27b02",
   "metadata": {},
   "source": [
    "## Apply SMOTE"
   ]
  },
  {
   "cell_type": "code",
   "execution_count": 16,
   "id": "be0ceff7-ba62-43ad-832b-8c7a37dc9c2c",
   "metadata": {},
   "outputs": [],
   "source": [
    "import imblearn\n",
    "from imblearn.over_sampling import SMOTE\n",
    "\n",
    "oversample = SMOTE(k_neighbors=3, random_state=4242)\n",
    "X_SMOTE , Y_SMOTE = oversample.fit_resample(X, Y)"
   ]
  },
  {
   "cell_type": "markdown",
   "id": "d6877b44-5af0-4c15-b4fc-7178919588b4",
   "metadata": {},
   "source": [
    "## Classification using the SMOTE dataset"
   ]
  },
  {
   "cell_type": "code",
   "execution_count": 17,
   "id": "60f021ad-e483-4049-9a59-9348effa60d8",
   "metadata": {},
   "outputs": [
    {
     "name": "stdout",
     "output_type": "stream",
     "text": [
      "Accuracy: 0.9285714285714286\n"
     ]
    },
    {
     "data": {
      "image/png": "[encoded data removed]",
      "text/plain": [
       "<Figure size 432x288 with 2 Axes>"
      ]
     },
     "metadata": {
      "needs_background": "light"
     },
     "output_type": "display_data"
    }
   ],
   "source": [
    "\n",
    "X_SMOTE_train, X_SMOTE_test, Y_SMOTE_train, Y_SMOTE_test= train_test_split(X_SMOTE,Y_SMOTE,test_size=0.3,random_state=4242)\n",
    "\n",
    "\n",
    "clf=RandomForestClassifier(n_estimators=500, max_depth=2,min_samples_split=3,random_state=4142)\n",
    "clf.fit(X_SMOTE_train,Y_SMOTE_train)\n",
    "Y_pred=clf.predict(X_SMOTE_test)\n",
    "print(\"Accuracy:\",metrics.accuracy_score(Y_SMOTE_test, Y_pred))\n",
    "\n",
    "\n",
    "from sklearn.metrics import confusion_matrix\n",
    "nn=confusion_matrix( Y_SMOTE_test, Y_pred)\n",
    "from sklearn.metrics import ConfusionMatrixDisplay\n",
    "cm_display = ConfusionMatrixDisplay(nn).plot()\n",
    "plt.savefig(\"SMOTE_CM_Grading.png\",dpi=300)\n",
    "plt.show()\n",
    "from sklearn.metrics import plot_roc_curve"
   ]
  },
  {
   "cell_type": "markdown",
   "id": "d72349e8-8d11-452e-b83f-9b851db7f3a3",
   "metadata": {},
   "source": [
    "## Generation of the ROC Curve "
   ]
  },
  {
   "cell_type": "code",
   "execution_count": 18,
   "id": "10ec6c04-edcc-42e2-8d8b-662c0965591c",
   "metadata": {},
   "outputs": [
    {
     "data": {
      "image/png": "[encoded data removed]",
      "text/plain": [
       "<Figure size 432x288 with 1 Axes>"
      ]
     },
     "metadata": {
      "needs_background": "light"
     },
     "output_type": "display_data"
    }
   ],
   "source": [
    "from sklearn.preprocessing import label_binarize\n",
    "\n",
    "\n",
    "dict_subgroup = {0:\"MB\",1:\"PA\",2:\"EP\"}\n",
    "\n",
    "\n",
    "\n",
    "y = label_binarize(Y_SMOTE_test, classes=[1, 2, 3])\n",
    "n_classes = y.shape[1]\n",
    "\n",
    "\n",
    "y_score = clf.fit(X_SMOTE_train, Y_SMOTE_train).predict_proba(X_SMOTE_test)\n",
    "\n",
    "\n",
    "from sklearn.metrics import roc_curve, auc\n",
    "fpr = dict()\n",
    "tpr = dict()\n",
    "roc_auc = dict()\n",
    "\n",
    "for i in range(n_classes):\n",
    "    fpr[i], tpr[i], _ = roc_curve(y[:, i], y_score[:, i])\n",
    "    roc_auc[i] = auc(fpr[i], tpr[i])\n",
    "\n",
    "\n",
    "plt.figure()\n",
    "lw = 2\n",
    "from itertools import cycle\n",
    "colors = cycle([\"red\", \"darkorange\", \"cornflowerblue\"])\n",
    "for i, color in zip(range(n_classes), colors):\n",
    "    plt.plot(\n",
    "        fpr[i],\n",
    "        tpr[i],\n",
    "        color=color,\n",
    "        lw=lw,\n",
    "        label=\"ROC curve of class {0} (area = {1:0.2f})\".format(dict_subgroup[i], roc_auc[i]),\n",
    "    )\n",
    "    \n",
    "plt.xlabel(\"False Positive Rate\")\n",
    "plt.ylabel(\"True Positive Rate\")\n",
    "plt.title(\"Receiver operating characteristic\")\n",
    "plt.legend(loc=\"lower right\")\n",
    "plt.savefig(\"AUC_SMOTE_Grading.tiff\",dpi=300)\n",
    "plt.show()"
   ]
  },
  {
   "cell_type": "markdown",
   "id": "e47c8bf9-e43f-403a-a0b7-958e80d124d8",
   "metadata": {},
   "source": [
    "## Confidence interval using Bootstrap"
   ]
  },
  {
   "cell_type": "code",
   "execution_count": 19,
   "id": "7eb5bdf8-397e-4e9c-8dad-11d5289a6bfe",
   "metadata": {},
   "outputs": [],
   "source": [
    "from sklearn.metrics import roc_auc_score\n",
    "from math import sqrt\n",
    "\n",
    "def roc_auc_ci(y_true, y_score, n_classes):\n",
    "    for i in range (n_classes):\n",
    "        AUC = roc_auc [i]\n",
    "        N1 = sum(y_true == i)\n",
    "        N2 = sum(y_true != i)\n",
    "        Q1 = AUC / (2 - AUC)\n",
    "        Q2 = 2*AUC**2 / (1 + AUC)\n",
    "        SE_AUC = sqrt((AUC*(1 - AUC) + (N1 - 1)*(Q1 - AUC**2) + (N2 - 1)*(Q2 - AUC**2)) / (N1*N2))\n",
    "        lower = AUC - 1.96*SE_AUC\n",
    "        upper = AUC + 1.96*SE_AUC\n",
    "        if lower < 0:\n",
    "            lower = 0\n",
    "        if upper > 1:\n",
    "            upper = 1\n",
    "        return (lower, upper)"
   ]
  },
  {
   "cell_type": "code",
   "execution_count": 20,
   "id": "26d31183-5a6d-4123-9434-fe1402549a1a",
   "metadata": {},
   "outputs": [],
   "source": [
    "dict_subgroup = {0:\"PA\",1:\"MB\",2:\"EP\"}\n",
    "#define the three classes in the analyses and then binarize them in order to obtain the bootstrapped scores\n",
    "\n",
    "y = label_binarize(Y_SMOTE_test, classes=[1, 2, 3])\n",
    "n_classes = y.shape[1]\n",
    "\n",
    "n_bootstraps = 300\n",
    "## generate three lists in which we will store the classifier performamce in every iteration\n",
    "bootstrapped_scores_AP = []\n",
    "bootstrapped_scores_MB = []\n",
    "bootstrapped_scores_EP = []\n"
   ]
  },
  {
   "cell_type": "code",
   "execution_count": 21,
   "id": "1675c570-8e64-4da4-86ff-f0532a7a88fb",
   "metadata": {},
   "outputs": [],
   "source": [
    "import random\n",
    "from random import randint \n",
    "\n",
    "for i in range (n_bootstraps):\n",
    "    X_SMOTE_train, X_SMOTE_test, Y_SMOTE_train, Y_SMOTE_test= train_test_split(X_SMOTE,Y_SMOTE,test_size=0.5,random_state=randint(4200,4550))\n",
    "    y = label_binarize(Y_SMOTE_test, classes=[1, 2, 3])\n",
    "    n_classes = y.shape[1]\n",
    "    clf=RandomForestClassifier(n_estimators=500, max_depth=2,min_samples_split=3,random_state=randint(0,500))\n",
    "    y_score = clf.fit(X_SMOTE_train, Y_SMOTE_train).predict_proba(X_SMOTE_test)\n",
    "    for i in range (n_classes):\n",
    "            fpr[i], tpr[i], _ = roc_curve(y[:, i], y_score[:, i])\n",
    "            roc_auc[i] = auc(fpr[i], tpr[i])\n",
    "\n",
    "            if i == 0:\n",
    "                            score = roc_auc[i]\n",
    "                            bootstrapped_scores_AP.append(score)\n",
    "\n",
    "            elif i == 1:\n",
    "                            score = roc_auc[i]\n",
    "                            bootstrapped_scores_MB.append(score)\n",
    "\n",
    "            elif i == 2:\n",
    "                            score = roc_auc[i]\n",
    "                            bootstrapped_scores_EP.append(score)\n"
   ]
  },
  {
   "cell_type": "code",
   "execution_count": 22,
   "id": "ad788eb9-1cb9-4d65-8595-f575a707aabb",
   "metadata": {},
   "outputs": [
    {
     "name": "stdout",
     "output_type": "stream",
     "text": [
      "Confidence interval for the score: [0.822 - 1.0]\n"
     ]
    }
   ],
   "source": [
    "sorted_scores = np.array(bootstrapped_scores_EP)\n",
    "sorted_scores.sort()\n",
    "\n",
    "# Computing the lower and upper bound of the 90% confidence interval\n",
    "# You can change the bounds percentiles to 0.025 and 0.975 to get\n",
    "# a 95% confidence interval instead.\n",
    "confidence_lower_EP = sorted_scores[int(0.05 * len(sorted_scores))]\n",
    "confidence_upper_EP = sorted_scores[int(0.95 * len(sorted_scores))]\n",
    "print(\"Confidence interval for the score: [{:0.3f} - {:0.3}]\".format(\n",
    "    confidence_lower_EP, confidence_upper_EP))"
   ]
  },
  {
   "cell_type": "code",
   "execution_count": 23,
   "id": "802f7db8-8988-4f9a-a263-d9a7e925eb24",
   "metadata": {},
   "outputs": [
    {
     "name": "stdout",
     "output_type": "stream",
     "text": [
      "Confidence interval for the score: [0.955 - 1.0]\n"
     ]
    }
   ],
   "source": [
    "sorted_scores = np.array(bootstrapped_scores_AP)\n",
    "sorted_scores.sort()\n",
    "\n",
    "# Computing the lower and upper bound of the 90% confidence interval\n",
    "# You can change the bounds percentiles to 0.025 and 0.975 to get\n",
    "# a 95% confidence interval instead.\n",
    "confidence_lower_AP = sorted_scores[int(0.05 * len(sorted_scores))]\n",
    "confidence_upper_AP = sorted_scores[int(0.95 * len(sorted_scores))]\n",
    "print(\"Confidence interval for the score: [{:0.3f} - {:0.3}]\".format(\n",
    "    confidence_lower_AP, confidence_upper_AP))"
   ]
  },
  {
   "cell_type": "code",
   "execution_count": 24,
   "id": "6a0444f5-0251-4c64-9908-f27a63175ef5",
   "metadata": {},
   "outputs": [
    {
     "name": "stdout",
     "output_type": "stream",
     "text": [
      "Confidence interval for the score: [0.960 - 1.0]\n"
     ]
    }
   ],
   "source": [
    "sorted_scores = np.array(bootstrapped_scores_MB)\n",
    "sorted_scores.sort()\n",
    "\n",
    "# Computing the lower and upper bound of the 90% confidence interval\n",
    "# You can change the bounds percentiles to 0.025 and 0.975 to get\n",
    "# a 95% confidence interval instead.\n",
    "confidence_lower_MB = sorted_scores[int(0.05 * len(sorted_scores))]\n",
    "confidence_upper_MB = sorted_scores[int(0.95 * len(sorted_scores))]\n",
    "print(\"Confidence interval for the score: [{:0.3f} - {:0.3}]\".format(\n",
    "    confidence_lower_MB, confidence_upper_MB))"
   ]
  },
  {
   "cell_type": "markdown",
   "id": "1d975339-e8a4-4314-b4d8-e6bd8ec1e95c",
   "metadata": {},
   "source": [
    "## Classifier Performance Graphical Representation"
   ]
  },
  {
   "cell_type": "code",
   "execution_count": 25,
   "id": "b74dd92c-1bb7-4864-a4bd-b4f3ace8c9ca",
   "metadata": {},
   "outputs": [
    {
     "data": {
      "image/png": "[encoded data removed]",
      "text/plain": [
       "<Figure size 432x288 with 1 Axes>"
      ]
     },
     "metadata": {
      "needs_background": "light"
     },
     "output_type": "display_data"
    }
   ],
   "source": [
    "import matplotlib.pyplot as plt\n",
    "\n",
    "\n",
    "# Create the histogram\n",
    "plt.hist(bootstrapped_scores_MB, bins=5, alpha=1, color=\"red\", edgecolor = \"black\")\n",
    "\n",
    "\n",
    "\n",
    "# Add a title and labels\n",
    "plt.title('Classifier Performance in MB detection')\n",
    "plt.xlabel('Accuracy')\n",
    "plt.ylabel('Frequency')\n",
    "\n",
    "plt.savefig(\"PCLF_Medullo.jpeg\", dpi=300)\n",
    "# Show the plot\n",
    "plt.show()\n"
   ]
  },
  {
   "cell_type": "code",
   "execution_count": 26,
   "id": "b877ee2d-0073-4880-b21e-a9151fb720da",
   "metadata": {},
   "outputs": [
    {
     "data": {
      "image/png": "[encoded data removed]",
      "text/plain": [
       "<Figure size 432x288 with 1 Axes>"
      ]
     },
     "metadata": {
      "needs_background": "light"
     },
     "output_type": "display_data"
    }
   ],
   "source": [
    "import matplotlib.pyplot as plt\n",
    "\n",
    "\n",
    "# Create the histogram\n",
    "plt.hist(bootstrapped_scores_AP, bins=5, alpha=1, color=\"blue\", edgecolor = \"black\")\n",
    "\n",
    "\n",
    "\n",
    "# Add a title and labels\n",
    "plt.title('Classifier Performance in PA detection')\n",
    "plt.xlabel('Accuracy')\n",
    "plt.ylabel('Frequency')\n",
    "\n",
    "plt.savefig(\"CLF_PA_bootstrap.jpeg\", dpi=300)\n",
    "# Show the plot\n",
    "plt.show()\n"
   ]
  },
  {
   "cell_type": "code",
   "execution_count": 27,
   "id": "101eb353-e520-4bc2-97f6-a7ca1660621f",
   "metadata": {},
   "outputs": [
    {
     "data": {
      "image/png": "[encoded data removed]",
      "text/plain": [
       "<Figure size 432x288 with 1 Axes>"
      ]
     },
     "metadata": {
      "needs_background": "light"
     },
     "output_type": "display_data"
    }
   ],
   "source": [
    "import matplotlib.pyplot as plt\n",
    "\n",
    "\n",
    "# Create the histogram\n",
    "plt.hist(bootstrapped_scores_EP, bins=5, alpha=1, color=\"green\", edgecolor = \"black\")\n",
    "\n",
    "\n",
    "\n",
    "# Add a title and labels\n",
    "plt.title('Classifier Performance in EP detection')\n",
    "plt.xlabel('Accuracy')\n",
    "plt.ylabel('Frequency')\n",
    "plt.savefig(\"PCLF_EP.jpeg\", dpi=300)\n",
    "# Show the plot\n",
    "plt.show()"
   ]
  },
  {
   "cell_type": "code",
   "execution_count": 28,
   "id": "a00e77f5-b005-4be9-a7f3-a3b009170e87",
   "metadata": {},
   "outputs": [
    {
     "data": {
      "image/png": "[encoded data removed]",
      "text/plain": [
       "<Figure size 432x288 with 1 Axes>"
      ]
     },
     "metadata": {
      "needs_background": "light"
     },
     "output_type": "display_data"
    }
   ],
   "source": [
    "data = [bootstrapped_scores_MB, bootstrapped_scores_AP, bootstrapped_scores_EP]\n",
    "\n",
    "labels = [\"MB\", \"PA\", \"EP\"]\n",
    "edge_color = \"black\"\n",
    "colors = ['pink', 'lightblue', 'lightgreen'] # set different colors for each label in order to have a better graphical view of the three boxplots\n",
    "\n",
    "fig, ax = plt.subplots()\n",
    "\n",
    "bp = ax.boxplot(data, patch_artist=True, labels=labels)\n",
    "\n",
    "for element in ['boxes', 'whiskers', 'fliers', 'means', 'medians', 'caps']:\n",
    "    plt.setp(bp[element], color=edge_color)\n",
    "        \n",
    "for patch, color in zip(bp[\"boxes\"], colors):\n",
    "    patch.set_facecolor(color)\n",
    "plt.ylim(0,1.1)\n",
    "plt.title(\"Boxplot of the performance of RF classifier for every subgroup\")\n",
    "plt.savefig(\"Boxplot_nonzoom.jpeg\", dpi=300)\n",
    "plt.show()"
   ]
  },
  {
   "cell_type": "code",
   "execution_count": 29,
   "id": "b4a56426-9457-4848-84b2-a2c5845e988b",
   "metadata": {},
   "outputs": [
    {
     "data": {
      "image/png": "[encoded data removed]",
      "text/plain": [
       "<Figure size 432x288 with 1 Axes>"
      ]
     },
     "metadata": {
      "needs_background": "light"
     },
     "output_type": "display_data"
    }
   ],
   "source": [
    "edge_color = \"black\"\n",
    "colors = ['pink', 'lightblue', 'lightgreen'] # set different colors for each label in order to have a better graphical view of the three boxplots\n",
    "\n",
    "fig, ax = plt.subplots()\n",
    "\n",
    "bp = ax.boxplot(data, patch_artist=True, labels=labels)\n",
    "\n",
    "for element in ['boxes', 'whiskers', 'fliers', 'means', 'medians', 'caps']:\n",
    "    plt.setp(bp[element], color=edge_color)\n",
    "        \n",
    "for patch, color in zip(bp[\"boxes\"], colors):\n",
    "    patch.set_facecolor(color)\n",
    "plt.ylim(0.7,1.01)\n",
    "plt.title(\"Boxplot of the performance of RF classifier for every subgroup\")\n",
    "plt.ylabel(\"Accuracy\")\n",
    "plt.savefig(\"boxplot_zoomed.jpeg\", dpi=300)\n",
    "plt.show()"
   ]
  },
  {
   "cell_type": "code",
   "execution_count": null,
   "id": "98034472-b0c5-4ec2-aec1-b59243746736",
   "metadata": {},
   "outputs": [],
   "source": []
  },
  {
   "cell_type": "code",
   "execution_count": null,
   "id": "2d46d76b-5782-4777-a09e-d629cb3c376e",
   "metadata": {},
   "outputs": [],
   "source": []
  }
 ],
 "metadata": {
  "kernelspec": {
   "display_name": "Python 3 (ipykernel)",
   "language": "python",
   "name": "python3"
  },
  "language_info": {
   "codemirror_mode": {
    "name": "ipython",
    "version": 3
   },
   "file_extension": ".py",
   "mimetype": "text/x-python",
   "name": "python",
   "nbconvert_exporter": "python",
   "pygments_lexer": "ipython3",
   "version": "3.9.7"
  }
 },
 "nbformat": 4,
 "nbformat_minor": 5
}
